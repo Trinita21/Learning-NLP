{
  "nbformat": 4,
  "nbformat_minor": 0,
  "metadata": {
    "colab": {
      "name": "Learning NLP.ipynb",
      "provenance": []
    },
    "kernelspec": {
      "name": "python3",
      "display_name": "Python 3"
    },
    "language_info": {
      "name": "python"
    }
  },
  "cells": [
    {
      "cell_type": "markdown",
      "source": [
        "#Tokenization"
      ],
      "metadata": {
        "id": "k8kS7lWIBmGM"
      }
    },
    {
      "cell_type": "code",
      "execution_count": 90,
      "metadata": {
        "id": "jYX0MPhbBk1_"
      },
      "outputs": [],
      "source": [
        "import nltk"
      ]
    },
    {
      "cell_type": "code",
      "source": [
        "paragraph = \"It is a curious thing, Harry, but perhaps those who are best suited to power are those who have never sought it. Those who, like you, have leadership thrust upon them, and take up the mantle because they must, and find to their own surprise that they wear it well. — Albus Dumbledore\"\n"
      ],
      "metadata": {
        "id": "1CawQb-OB8fW"
      },
      "execution_count": 92,
      "outputs": []
    },
    {
      "cell_type": "code",
      "source": [
        "nltk.download('punkt') #important package f or stemming"
      ],
      "metadata": {
        "colab": {
          "base_uri": "https://localhost:8080/"
        },
        "id": "jbDSDl-uQrFX",
        "outputId": "1f555fd1-7f1e-4ec1-c607-07729fd99109"
      },
      "execution_count": 93,
      "outputs": [
        {
          "output_type": "stream",
          "name": "stdout",
          "text": [
            "[nltk_data] Downloading package punkt to /root/nltk_data...\n",
            "[nltk_data]   Package punkt is already up-to-date!\n"
          ]
        },
        {
          "output_type": "execute_result",
          "data": {
            "text/plain": [
              "True"
            ]
          },
          "metadata": {},
          "execution_count": 93
        }
      ]
    },
    {
      "cell_type": "code",
      "source": [
        "sentences = nltk.sent_tokenize(paragraph) #converting para to sentences\n",
        "sentences"
      ],
      "metadata": {
        "colab": {
          "base_uri": "https://localhost:8080/"
        },
        "id": "7buDHhaUC0g9",
        "outputId": "56a34b52-f3c4-4fbb-eb4d-b5e02a9f8474"
      },
      "execution_count": 94,
      "outputs": [
        {
          "output_type": "execute_result",
          "data": {
            "text/plain": [
              "['It is a curious thing, Harry, but perhaps those who are best suited to power are those who have never sought it.',\n",
              " 'Those who, like you, have leadership thrust upon them, and take up the mantle because they must, and find to their own surprise that they wear it well.',\n",
              " '— Albus Dumbledore']"
            ]
          },
          "metadata": {},
          "execution_count": 94
        }
      ]
    },
    {
      "cell_type": "code",
      "source": [
        "words=nltk.word_tokenize(paragraph) #converting para to words\n",
        "words"
      ],
      "metadata": {
        "colab": {
          "base_uri": "https://localhost:8080/"
        },
        "id": "lKQw2dLEC7Rj",
        "outputId": "8a2ed52f-33e0-4de1-812a-3098815bf131"
      },
      "execution_count": 95,
      "outputs": [
        {
          "output_type": "execute_result",
          "data": {
            "text/plain": [
              "['It',\n",
              " 'is',\n",
              " 'a',\n",
              " 'curious',\n",
              " 'thing',\n",
              " ',',\n",
              " 'Harry',\n",
              " ',',\n",
              " 'but',\n",
              " 'perhaps',\n",
              " 'those',\n",
              " 'who',\n",
              " 'are',\n",
              " 'best',\n",
              " 'suited',\n",
              " 'to',\n",
              " 'power',\n",
              " 'are',\n",
              " 'those',\n",
              " 'who',\n",
              " 'have',\n",
              " 'never',\n",
              " 'sought',\n",
              " 'it',\n",
              " '.',\n",
              " 'Those',\n",
              " 'who',\n",
              " ',',\n",
              " 'like',\n",
              " 'you',\n",
              " ',',\n",
              " 'have',\n",
              " 'leadership',\n",
              " 'thrust',\n",
              " 'upon',\n",
              " 'them',\n",
              " ',',\n",
              " 'and',\n",
              " 'take',\n",
              " 'up',\n",
              " 'the',\n",
              " 'mantle',\n",
              " 'because',\n",
              " 'they',\n",
              " 'must',\n",
              " ',',\n",
              " 'and',\n",
              " 'find',\n",
              " 'to',\n",
              " 'their',\n",
              " 'own',\n",
              " 'surprise',\n",
              " 'that',\n",
              " 'they',\n",
              " 'wear',\n",
              " 'it',\n",
              " 'well',\n",
              " '.',\n",
              " '—',\n",
              " 'Albus',\n",
              " 'Dumbledore']"
            ]
          },
          "metadata": {},
          "execution_count": 95
        }
      ]
    },
    {
      "cell_type": "markdown",
      "source": [
        "#Stemming and Lemmatization"
      ],
      "metadata": {
        "id": "UvKeUuh2Dvsx"
      }
    },
    {
      "cell_type": "markdown",
      "source": [
        "###Stemming:\n",
        "#####Reducing words to their word stem\n",
        "\n",
        "######history, historical = histori\n",
        "######final, finally, finalized = fina"
      ],
      "metadata": {
        "id": "2srL0y5jD12m"
      }
    },
    {
      "cell_type": "code",
      "source": [
        "from nltk.stem import PorterStemmer #for stemmeing\n",
        "from nltk.corpus import stopwords #stopwords removes words that put no value here, ex: on, from, the, etc"
      ],
      "metadata": {
        "id": "GdnsuFVoC7-L"
      },
      "execution_count": 96,
      "outputs": []
    },
    {
      "cell_type": "code",
      "source": [
        "stemmer = PorterStemmer() #creates object"
      ],
      "metadata": {
        "id": "7Vk-_DOtFTes"
      },
      "execution_count": 97,
      "outputs": []
    },
    {
      "cell_type": "code",
      "source": [
        "nltk.download('stopwords')"
      ],
      "metadata": {
        "colab": {
          "base_uri": "https://localhost:8080/"
        },
        "id": "oTc022XKIJJ5",
        "outputId": "b283edbc-cafe-4cbe-90ea-87ce7b02de6b"
      },
      "execution_count": 98,
      "outputs": [
        {
          "output_type": "stream",
          "name": "stdout",
          "text": [
            "[nltk_data] Downloading package stopwords to /root/nltk_data...\n",
            "[nltk_data]   Package stopwords is already up-to-date!\n"
          ]
        },
        {
          "output_type": "execute_result",
          "data": {
            "text/plain": [
              "True"
            ]
          },
          "metadata": {},
          "execution_count": 98
        }
      ]
    },
    {
      "cell_type": "code",
      "source": [
        "for i in range(len(sentences)):\n",
        "  words=nltk.word_tokenize(sentences[i]) #words will have a list of words/each sentence that is\n",
        "  words = [stemmer.stem(word) for word in words if word not in set(stopwords.words('english'))] #removes the words of para that are present in stopwords and if the word doesnt belong to the stopword, then it gets stemmed\n",
        "  sentences[i]=' '.join(words)"
      ],
      "metadata": {
        "id": "wB6LhL-VF8WJ"
      },
      "execution_count": 99,
      "outputs": []
    },
    {
      "cell_type": "code",
      "source": [
        "sentences"
      ],
      "metadata": {
        "colab": {
          "base_uri": "https://localhost:8080/"
        },
        "id": "E95hLjetRC_3",
        "outputId": "f9379601-cbf4-423c-9c88-0378edef3b27"
      },
      "execution_count": 100,
      "outputs": [
        {
          "output_type": "execute_result",
          "data": {
            "text/plain": [
              "['It curiou thing , harri , perhap best suit power never sought .',\n",
              " 'those , like , leadership thrust upon , take mantl must , find surpris wear well .',\n",
              " '— albu dumbledor']"
            ]
          },
          "metadata": {},
          "execution_count": 100
        }
      ]
    },
    {
      "cell_type": "markdown",
      "source": [
        "##Lemmatizing\n",
        "#####Reducing words to their word stem, but a meaningful word\n",
        "######history, historical = history\n",
        "######final, finally, finalized = final"
      ],
      "metadata": {
        "id": "dZmsiyTlEX41"
      }
    },
    {
      "cell_type": "code",
      "source": [
        "from nltk.stem import WordNetLemmatizer #for stemmeing\n",
        "from nltk.corpus import stopwords #stopwords removes words that put no value here, ex: on, from, the, etc"
      ],
      "metadata": {
        "id": "fX7yS5eiF7hj"
      },
      "execution_count": 101,
      "outputs": []
    },
    {
      "cell_type": "code",
      "source": [
        "\"\"\"para->sentences->words\"\"\""
      ],
      "metadata": {
        "colab": {
          "base_uri": "https://localhost:8080/",
          "height": 35
        },
        "id": "6EqhNJVqJpWo",
        "outputId": "650acb12-0eef-4689-fb5a-277e66c9e248"
      },
      "execution_count": 102,
      "outputs": [
        {
          "output_type": "execute_result",
          "data": {
            "text/plain": [
              "'para->sentences->words'"
            ],
            "application/vnd.google.colaboratory.intrinsic+json": {
              "type": "string"
            }
          },
          "metadata": {},
          "execution_count": 102
        }
      ]
    },
    {
      "cell_type": "code",
      "source": [
        "paragraph = \"It is a curious thing, Harry, but perhaps those who are best suited to power are those who have never sought it. Those who, like you, have leadership thrust upon them, and take up the mantle because they must, and find to their own surprise that they wear it well. — Albus Dumbledore\"\n"
      ],
      "metadata": {
        "id": "Fxd9H2FQRy-Q"
      },
      "execution_count": 103,
      "outputs": []
    },
    {
      "cell_type": "code",
      "source": [
        "sentences = nltk.sent_tokenize(paragraph) #converting para to sentences\n",
        "sentences"
      ],
      "metadata": {
        "colab": {
          "base_uri": "https://localhost:8080/"
        },
        "id": "DECXlhh0R5qp",
        "outputId": "24ac88a9-638f-470a-a517-7642ce97d763"
      },
      "execution_count": 104,
      "outputs": [
        {
          "output_type": "execute_result",
          "data": {
            "text/plain": [
              "['It is a curious thing, Harry, but perhaps those who are best suited to power are those who have never sought it.',\n",
              " 'Those who, like you, have leadership thrust upon them, and take up the mantle because they must, and find to their own surprise that they wear it well.',\n",
              " '— Albus Dumbledore']"
            ]
          },
          "metadata": {},
          "execution_count": 104
        }
      ]
    },
    {
      "cell_type": "code",
      "source": [
        "lemmatizer = WordNetLemmatizer() #object creation\n"
      ],
      "metadata": {
        "id": "z6sllkiCJ35n"
      },
      "execution_count": 105,
      "outputs": []
    },
    {
      "cell_type": "code",
      "source": [
        "nltk.download('wordnet')"
      ],
      "metadata": {
        "colab": {
          "base_uri": "https://localhost:8080/"
        },
        "id": "ltquuHIaRhKv",
        "outputId": "0fa873e1-9fa0-4713-8db5-6a7597fb5c2f"
      },
      "execution_count": 106,
      "outputs": [
        {
          "output_type": "stream",
          "name": "stdout",
          "text": [
            "[nltk_data] Downloading package wordnet to /root/nltk_data...\n",
            "[nltk_data]   Package wordnet is already up-to-date!\n"
          ]
        },
        {
          "output_type": "execute_result",
          "data": {
            "text/plain": [
              "True"
            ]
          },
          "metadata": {},
          "execution_count": 106
        }
      ]
    },
    {
      "cell_type": "code",
      "source": [
        "for i in range(len(sentences)):\n",
        "  words=nltk.word_tokenize(sentences[i]) #words will have a list of words/each sentence that is\n",
        "  words = [lemmatizer.lemmatize(word) for word in words if word not in set(stopwords.words('english'))] #removes the words of para that are present in stopwords and if the word doesnt belong to the stopword, then it gets stemmed\n",
        "  sentences[i]=' '.join(words)"
      ],
      "metadata": {
        "id": "qlEXuz--KBeH"
      },
      "execution_count": 107,
      "outputs": []
    },
    {
      "cell_type": "code",
      "source": [
        "sentences"
      ],
      "metadata": {
        "colab": {
          "base_uri": "https://localhost:8080/"
        },
        "id": "pXzkGxtXRaow",
        "outputId": "e88cc525-523e-46c9-991f-74afa6d979d6"
      },
      "execution_count": 108,
      "outputs": [
        {
          "output_type": "execute_result",
          "data": {
            "text/plain": [
              "['It curious thing , Harry , perhaps best suited power never sought .',\n",
              " 'Those , like , leadership thrust upon , take mantle must , find surprise wear well .',\n",
              " '— Albus Dumbledore']"
            ]
          },
          "metadata": {},
          "execution_count": 108
        }
      ]
    },
    {
      "cell_type": "markdown",
      "source": [
        "#Bag of Words\n",
        "all words get equal weightage"
      ],
      "metadata": {
        "id": "RzhrIlZ5L9vB"
      }
    },
    {
      "cell_type": "code",
      "source": [
        "import re #regular expression(re) for cleaning the texts->punctuation marks, capital letter etc"
      ],
      "metadata": {
        "id": "VYzVdtK2L_qx"
      },
      "execution_count": 109,
      "outputs": []
    },
    {
      "cell_type": "code",
      "source": [
        "paragraph = \"It is a curious thing, Harry, but perhaps those who are best suited to power are those who have never sought it. Those who, like you, have leadership thrust upon them, and take up the mantle because they must, and find to their own surprise that they wear it well. — Albus Dumbledore\"\n"
      ],
      "metadata": {
        "id": "bWz6LUJ1SN9G"
      },
      "execution_count": 110,
      "outputs": []
    },
    {
      "cell_type": "code",
      "source": [
        "sentences = nltk.sent_tokenize(paragraph) #converting para to sentences\n",
        "sentences"
      ],
      "metadata": {
        "colab": {
          "base_uri": "https://localhost:8080/"
        },
        "outputId": "d970d3da-9706-42d0-82b2-507d23a08638",
        "id": "ri9FqeZJSN9G"
      },
      "execution_count": 111,
      "outputs": [
        {
          "output_type": "execute_result",
          "data": {
            "text/plain": [
              "['It is a curious thing, Harry, but perhaps those who are best suited to power are those who have never sought it.',\n",
              " 'Those who, like you, have leadership thrust upon them, and take up the mantle because they must, and find to their own surprise that they wear it well.',\n",
              " '— Albus Dumbledore']"
            ]
          },
          "metadata": {},
          "execution_count": 111
        }
      ]
    },
    {
      "cell_type": "code",
      "source": [
        "corpus = []"
      ],
      "metadata": {
        "id": "Q5wpAbJ3MdYg"
      },
      "execution_count": 112,
      "outputs": []
    },
    {
      "cell_type": "code",
      "source": [
        "for i in range(len(sentences)):\n",
        "    words = re.sub('[^a-zA-Z]', ' ', sentences[i])\n",
        "    words = words.lower()\n",
        "    words = words.split()\n",
        "    words = [stemmer.stem(word) for word in words if not word in set(stopwords.words('english'))]\n",
        "    words = ' '.join(words)\n",
        "    corpus.append(words)"
      ],
      "metadata": {
        "id": "F5PdOsgOMdbf"
      },
      "execution_count": 113,
      "outputs": []
    },
    {
      "cell_type": "code",
      "source": [
        "corpus"
      ],
      "metadata": {
        "colab": {
          "base_uri": "https://localhost:8080/"
        },
        "id": "xCtykmkcMdeh",
        "outputId": "36c5fad9-3527-409c-d2cc-0d1a29215a5f"
      },
      "execution_count": 114,
      "outputs": [
        {
          "output_type": "execute_result",
          "data": {
            "text/plain": [
              "['curiou thing harri perhap best suit power never sought',\n",
              " 'like leadership thrust upon take mantl must find surpris wear well',\n",
              " 'albu dumbledor']"
            ]
          },
          "metadata": {},
          "execution_count": 114
        }
      ]
    },
    {
      "cell_type": "code",
      "source": [
        "#Bag of words feature extraction\n",
        "from sklearn.feature_extraction.text import CountVectorizer\n",
        "cv = CountVectorizer(max_features = 1500)\n",
        "X = cv.fit_transform(corpus).toarray()\n",
        "X"
      ],
      "metadata": {
        "colab": {
          "base_uri": "https://localhost:8080/"
        },
        "id": "zsscHhxCSSin",
        "outputId": "8fee0da3-c37f-4f87-892b-03c45ffd0830"
      },
      "execution_count": 116,
      "outputs": [
        {
          "output_type": "execute_result",
          "data": {
            "text/plain": [
              "array([[0, 1, 1, 0, 0, 1, 0, 0, 0, 0, 1, 1, 1, 1, 1, 0, 0, 1, 0, 0, 0, 0],\n",
              "       [0, 0, 0, 0, 1, 0, 1, 1, 1, 1, 0, 0, 0, 0, 0, 1, 1, 0, 1, 1, 1, 1],\n",
              "       [1, 0, 0, 1, 0, 0, 0, 0, 0, 0, 0, 0, 0, 0, 0, 0, 0, 0, 0, 0, 0, 0]])"
            ]
          },
          "metadata": {},
          "execution_count": 116
        }
      ]
    },
    {
      "cell_type": "markdown",
      "source": [
        "#TF-IDF\n",
        "#####term frequency(TF)=number of repetition of words in a sentence/number of works in sentence\n",
        "#####Inverse Document Frequency(IDF)=log(number of sentences/number of sentences containing that word\n",
        "#####TF*IDF\n",
        "importance of a word is preserved\n",
        "cons: semantic info/word order is not stored"
      ],
      "metadata": {
        "id": "RoNXsyGdce8K"
      }
    },
    {
      "cell_type": "code",
      "source": [
        "paragraph = \"It is a curious thing, Harry, but perhaps those who are best suited to power are those who have never sought it. Those who, like you, have leadership thrust upon them, and take up the mantle because they must, and find to their own surprise that they wear it well. — Albus Dumbledore\"\n"
      ],
      "metadata": {
        "id": "WOm7VS5rekwG"
      },
      "execution_count": 117,
      "outputs": []
    },
    {
      "cell_type": "code",
      "source": [
        "sentences = nltk.sent_tokenize(paragraph) #converting para to sentences\n",
        "sentences"
      ],
      "metadata": {
        "colab": {
          "base_uri": "https://localhost:8080/"
        },
        "outputId": "eb4cc88a-adcb-497c-8ee2-983050b6343c",
        "id": "-m0doJS0ekwH"
      },
      "execution_count": 118,
      "outputs": [
        {
          "output_type": "execute_result",
          "data": {
            "text/plain": [
              "['It is a curious thing, Harry, but perhaps those who are best suited to power are those who have never sought it.',\n",
              " 'Those who, like you, have leadership thrust upon them, and take up the mantle because they must, and find to their own surprise that they wear it well.',\n",
              " '— Albus Dumbledore']"
            ]
          },
          "metadata": {},
          "execution_count": 118
        }
      ]
    },
    {
      "cell_type": "code",
      "source": [
        "corpus = []"
      ],
      "metadata": {
        "id": "HdaVCjhNekwH"
      },
      "execution_count": 119,
      "outputs": []
    },
    {
      "cell_type": "code",
      "source": [
        "for i in range(len(sentences)):\n",
        "    words = re.sub('[^a-zA-Z]', ' ', sentences[i])\n",
        "    words = words.lower()\n",
        "    words = words.split()\n",
        "    words = [stemmer.stem(word) for word in words if not word in set(stopwords.words('english'))]\n",
        "    words = ' '.join(words)\n",
        "    corpus.append(words)"
      ],
      "metadata": {
        "id": "H_XP30ORekwI"
      },
      "execution_count": 120,
      "outputs": []
    },
    {
      "cell_type": "code",
      "source": [
        "corpus"
      ],
      "metadata": {
        "colab": {
          "base_uri": "https://localhost:8080/"
        },
        "outputId": "ff65f400-87ce-4f35-d569-1cde39728844",
        "id": "UOZEYNsWekwI"
      },
      "execution_count": 121,
      "outputs": [
        {
          "output_type": "execute_result",
          "data": {
            "text/plain": [
              "['curiou thing harri perhap best suit power never sought',\n",
              " 'like leadership thrust upon take mantl must find surpris wear well',\n",
              " 'albu dumbledor']"
            ]
          },
          "metadata": {},
          "execution_count": 121
        }
      ]
    },
    {
      "cell_type": "code",
      "source": [
        "#TFIDF feature extraction\n",
        "from sklearn.feature_extraction.text import TfidfVectorizer\n",
        "cv = TfidfVectorizer()\n",
        "X = cv.fit_transform(corpus).toarray()\n",
        "X"
      ],
      "metadata": {
        "colab": {
          "base_uri": "https://localhost:8080/"
        },
        "outputId": "d4a1c5b8-a773-424e-84d9-3962f6378674",
        "id": "3dBZ960xekwI"
      },
      "execution_count": 122,
      "outputs": [
        {
          "output_type": "execute_result",
          "data": {
            "text/plain": [
              "array([[0.        , 0.33333333, 0.33333333, 0.        , 0.        ,\n",
              "        0.33333333, 0.        , 0.        , 0.        , 0.        ,\n",
              "        0.33333333, 0.33333333, 0.33333333, 0.33333333, 0.33333333,\n",
              "        0.        , 0.        , 0.33333333, 0.        , 0.        ,\n",
              "        0.        , 0.        ],\n",
              "       [0.        , 0.        , 0.        , 0.        , 0.30151134,\n",
              "        0.        , 0.30151134, 0.30151134, 0.30151134, 0.30151134,\n",
              "        0.        , 0.        , 0.        , 0.        , 0.        ,\n",
              "        0.30151134, 0.30151134, 0.        , 0.30151134, 0.30151134,\n",
              "        0.30151134, 0.30151134],\n",
              "       [0.70710678, 0.        , 0.        , 0.70710678, 0.        ,\n",
              "        0.        , 0.        , 0.        , 0.        , 0.        ,\n",
              "        0.        , 0.        , 0.        , 0.        , 0.        ,\n",
              "        0.        , 0.        , 0.        , 0.        , 0.        ,\n",
              "        0.        , 0.        ]])"
            ]
          },
          "metadata": {},
          "execution_count": 122
        }
      ]
    },
    {
      "cell_type": "markdown",
      "source": [
        "#Word2Vec\n",
        "###Each and every word is represented as a vector of 32 or more dimensions\n",
        "#####semantic info is preserved\n",
        "#####relation between different words are also preserved\n",
        "#####for huge data"
      ],
      "metadata": {
        "id": "SCU8AQR-hbSP"
      }
    },
    {
      "cell_type": "code",
      "source": [
        "from gensim.models import Word2Vec"
      ],
      "metadata": {
        "id": "yw56zXBvhsmu"
      },
      "execution_count": 129,
      "outputs": []
    },
    {
      "cell_type": "code",
      "source": [
        "paragraph = \"It is a curious thing, Harry, but perhaps those who are best suited to power are those who have never sought it. Those who, like you, have leadership thrust upon them, and take up the mantle because they must, and find to their own surprise that they wear it well. — Albus Dumbledore\"\n"
      ],
      "metadata": {
        "id": "fFkwKr9ujE67"
      },
      "execution_count": 130,
      "outputs": []
    },
    {
      "cell_type": "code",
      "source": [
        "# Preprocessing the data\n",
        "text = re.sub(r'\\[[0-9]*\\]',' ',paragraph)\n",
        "text = re.sub(r'\\s+',' ',text)\n",
        "text = text.lower()\n",
        "text = re.sub(r'\\d',' ',text)\n",
        "text = re.sub(r'\\s+',' ',text)\n",
        "text"
      ],
      "metadata": {
        "colab": {
          "base_uri": "https://localhost:8080/",
          "height": 53
        },
        "id": "oCXPWPPPlOMx",
        "outputId": "37f80c37-2db8-47b8-fc65-3cc327377ca6"
      },
      "execution_count": 146,
      "outputs": [
        {
          "output_type": "execute_result",
          "data": {
            "text/plain": [
              "'it is a curious thing, harry, but perhaps those who are best suited to power are those who have never sought it. those who, like you, have leadership thrust upon them, and take up the mantle because they must, and find to their own surprise that they wear it well. — albus dumbledore'"
            ],
            "application/vnd.google.colaboratory.intrinsic+json": {
              "type": "string"
            }
          },
          "metadata": {},
          "execution_count": 146
        }
      ]
    },
    {
      "cell_type": "code",
      "source": [
        "sentences = nltk.sent_tokenize(paragraph) #converting para to sentences\n",
        "sentences = [nltk.word_tokenize(sentence) for sentence in sentences]\n",
        "sentences"
      ],
      "metadata": {
        "colab": {
          "base_uri": "https://localhost:8080/"
        },
        "outputId": "e00a161a-fbb1-4558-b682-21bea818ab2d",
        "id": "GQpMn5tQjE68"
      },
      "execution_count": 147,
      "outputs": [
        {
          "output_type": "execute_result",
          "data": {
            "text/plain": [
              "[['It',\n",
              "  'is',\n",
              "  'a',\n",
              "  'curious',\n",
              "  'thing',\n",
              "  ',',\n",
              "  'Harry',\n",
              "  ',',\n",
              "  'but',\n",
              "  'perhaps',\n",
              "  'those',\n",
              "  'who',\n",
              "  'are',\n",
              "  'best',\n",
              "  'suited',\n",
              "  'to',\n",
              "  'power',\n",
              "  'are',\n",
              "  'those',\n",
              "  'who',\n",
              "  'have',\n",
              "  'never',\n",
              "  'sought',\n",
              "  'it',\n",
              "  '.'],\n",
              " ['Those',\n",
              "  'who',\n",
              "  ',',\n",
              "  'like',\n",
              "  'you',\n",
              "  ',',\n",
              "  'have',\n",
              "  'leadership',\n",
              "  'thrust',\n",
              "  'upon',\n",
              "  'them',\n",
              "  ',',\n",
              "  'and',\n",
              "  'take',\n",
              "  'up',\n",
              "  'the',\n",
              "  'mantle',\n",
              "  'because',\n",
              "  'they',\n",
              "  'must',\n",
              "  ',',\n",
              "  'and',\n",
              "  'find',\n",
              "  'to',\n",
              "  'their',\n",
              "  'own',\n",
              "  'surprise',\n",
              "  'that',\n",
              "  'they',\n",
              "  'wear',\n",
              "  'it',\n",
              "  'well',\n",
              "  '.'],\n",
              " ['—', 'Albus', 'Dumbledore']]"
            ]
          },
          "metadata": {},
          "execution_count": 147
        }
      ]
    },
    {
      "cell_type": "code",
      "source": [
        "model = Word2Vec(sentences,min_count=1)"
      ],
      "metadata": {
        "id": "U6yaV-JjjHpB"
      },
      "execution_count": 153,
      "outputs": []
    },
    {
      "cell_type": "code",
      "source": [
        "words = model.wv.vocab\n",
        "words"
      ],
      "metadata": {
        "colab": {
          "base_uri": "https://localhost:8080/"
        },
        "id": "dhldvPgpjnu3",
        "outputId": "c23de803-61c0-42fa-9a2a-fec2e9dcccd9"
      },
      "execution_count": 154,
      "outputs": [
        {
          "output_type": "execute_result",
          "data": {
            "text/plain": [
              "{',': <gensim.models.keyedvectors.Vocab at 0x7f89426bcd10>,\n",
              " '.': <gensim.models.keyedvectors.Vocab at 0x7f89426bc610>,\n",
              " 'Albus': <gensim.models.keyedvectors.Vocab at 0x7f89426c7210>,\n",
              " 'Dumbledore': <gensim.models.keyedvectors.Vocab at 0x7f89426c7250>,\n",
              " 'Harry': <gensim.models.keyedvectors.Vocab at 0x7f89426bcd90>,\n",
              " 'It': <gensim.models.keyedvectors.Vocab at 0x7f89426fb350>,\n",
              " 'Those': <gensim.models.keyedvectors.Vocab at 0x7f89426bc310>,\n",
              " 'a': <gensim.models.keyedvectors.Vocab at 0x7f89426fb610>,\n",
              " 'and': <gensim.models.keyedvectors.Vocab at 0x7f89426bc850>,\n",
              " 'are': <gensim.models.keyedvectors.Vocab at 0x7f89426bc490>,\n",
              " 'because': <gensim.models.keyedvectors.Vocab at 0x7f89426bcf90>,\n",
              " 'best': <gensim.models.keyedvectors.Vocab at 0x7f89426bce10>,\n",
              " 'but': <gensim.models.keyedvectors.Vocab at 0x7f89426bcdd0>,\n",
              " 'curious': <gensim.models.keyedvectors.Vocab at 0x7f89426fba10>,\n",
              " 'find': <gensim.models.keyedvectors.Vocab at 0x7f89426bccd0>,\n",
              " 'have': <gensim.models.keyedvectors.Vocab at 0x7f89426bc410>,\n",
              " 'is': <gensim.models.keyedvectors.Vocab at 0x7f89426fbc50>,\n",
              " 'it': <gensim.models.keyedvectors.Vocab at 0x7f89426bc190>,\n",
              " 'leadership': <gensim.models.keyedvectors.Vocab at 0x7f89426bc810>,\n",
              " 'like': <gensim.models.keyedvectors.Vocab at 0x7f89426bc090>,\n",
              " 'mantle': <gensim.models.keyedvectors.Vocab at 0x7f89426bc2d0>,\n",
              " 'must': <gensim.models.keyedvectors.Vocab at 0x7f89426bcc50>,\n",
              " 'never': <gensim.models.keyedvectors.Vocab at 0x7f89426bc3d0>,\n",
              " 'own': <gensim.models.keyedvectors.Vocab at 0x7f89426c7090>,\n",
              " 'perhaps': <gensim.models.keyedvectors.Vocab at 0x7f89426fbdd0>,\n",
              " 'power': <gensim.models.keyedvectors.Vocab at 0x7f89426bc5d0>,\n",
              " 'sought': <gensim.models.keyedvectors.Vocab at 0x7f89426bc7d0>,\n",
              " 'suited': <gensim.models.keyedvectors.Vocab at 0x7f89426bca10>,\n",
              " 'surprise': <gensim.models.keyedvectors.Vocab at 0x7f89426c70d0>,\n",
              " 'take': <gensim.models.keyedvectors.Vocab at 0x7f89426bc110>,\n",
              " 'that': <gensim.models.keyedvectors.Vocab at 0x7f89426c7110>,\n",
              " 'the': <gensim.models.keyedvectors.Vocab at 0x7f89426bc710>,\n",
              " 'their': <gensim.models.keyedvectors.Vocab at 0x7f89426c7050>,\n",
              " 'them': <gensim.models.keyedvectors.Vocab at 0x7f89426bc750>,\n",
              " 'they': <gensim.models.keyedvectors.Vocab at 0x7f89426bced0>,\n",
              " 'thing': <gensim.models.keyedvectors.Vocab at 0x7f89470a9fd0>,\n",
              " 'those': <gensim.models.keyedvectors.Vocab at 0x7f89426bcc10>,\n",
              " 'thrust': <gensim.models.keyedvectors.Vocab at 0x7f89426bce50>,\n",
              " 'to': <gensim.models.keyedvectors.Vocab at 0x7f89426bc9d0>,\n",
              " 'up': <gensim.models.keyedvectors.Vocab at 0x7f89426bc390>,\n",
              " 'upon': <gensim.models.keyedvectors.Vocab at 0x7f89426bc790>,\n",
              " 'wear': <gensim.models.keyedvectors.Vocab at 0x7f89426c7150>,\n",
              " 'well': <gensim.models.keyedvectors.Vocab at 0x7f89426c7190>,\n",
              " 'who': <gensim.models.keyedvectors.Vocab at 0x7f89426bcfd0>,\n",
              " 'you': <gensim.models.keyedvectors.Vocab at 0x7f89426bc050>,\n",
              " '—': <gensim.models.keyedvectors.Vocab at 0x7f89426c71d0>}"
            ]
          },
          "metadata": {},
          "execution_count": 154
        }
      ]
    },
    {
      "cell_type": "code",
      "source": [
        "# Finding Word Vectors\n",
        "vector = model.wv['Harry']\n",
        "vector"
      ],
      "metadata": {
        "colab": {
          "base_uri": "https://localhost:8080/"
        },
        "id": "SPX8HlSUhtTm",
        "outputId": "2cfde3a1-6b14-4ff9-8717-2d776b38cb7d"
      },
      "execution_count": 156,
      "outputs": [
        {
          "output_type": "execute_result",
          "data": {
            "text/plain": [
              "array([ 3.9526876e-03,  1.5921223e-03, -1.3191490e-03, -1.8989183e-03,\n",
              "        3.3463233e-03, -1.1378512e-03, -2.2288687e-03,  4.7575180e-05,\n",
              "        3.6962344e-03,  2.8708293e-03, -1.5139026e-03, -4.5045237e-03,\n",
              "        4.8050203e-04, -2.4802426e-03,  2.5282789e-03, -1.5259833e-03,\n",
              "        2.0056148e-04, -9.7129692e-04, -1.9343839e-03, -2.9319010e-03,\n",
              "        3.8353859e-03,  4.7365939e-03,  2.0140016e-03, -2.6226109e-03,\n",
              "        1.0625650e-03,  4.2408104e-03, -3.1763522e-03, -2.2276549e-03,\n",
              "       -7.5605931e-04, -4.0825736e-03, -1.4007360e-03,  3.4350662e-03,\n",
              "        5.0195714e-04, -8.2094508e-04,  4.2661894e-03,  2.4861263e-03,\n",
              "        2.5394286e-03, -4.1102073e-03, -3.7130830e-03, -3.0281932e-05,\n",
              "        3.6196497e-03, -4.6496307e-03, -4.9489764e-03,  4.4391310e-04,\n",
              "       -8.5361105e-05, -1.3290483e-03, -1.9469671e-03,  2.5937138e-03,\n",
              "       -2.3872515e-03,  4.8614652e-03, -2.9620251e-03,  1.7729253e-03,\n",
              "       -5.3148979e-04, -2.2150481e-03,  3.6895126e-03,  2.6991349e-03,\n",
              "       -3.2574644e-03, -4.4963658e-03, -4.1703777e-03,  4.3650442e-03,\n",
              "        1.7693182e-03,  1.9778125e-03, -8.9803938e-04, -1.6793836e-03,\n",
              "       -3.3351800e-03, -2.3705688e-04, -1.8443237e-03, -3.6265673e-03,\n",
              "       -4.2337300e-03, -4.5102276e-03,  2.8827970e-03,  4.9057980e-03,\n",
              "       -4.4823051e-03, -2.9582214e-03,  1.5429861e-03,  2.8684076e-03,\n",
              "        3.7485966e-03,  9.7623316e-04, -1.4397075e-03, -4.5999554e-03,\n",
              "       -1.6815568e-03, -2.1049315e-03, -3.9837258e-03, -4.9885549e-03,\n",
              "       -4.0741386e-03, -4.4729896e-03, -4.8811911e-03, -1.2625123e-03,\n",
              "        2.8298009e-05,  1.3936366e-04,  3.8483804e-03,  2.4698267e-03,\n",
              "        3.0746676e-03,  4.4257529e-03, -1.0494079e-03, -3.7437768e-03,\n",
              "        3.8760146e-03, -4.5882752e-03, -4.0650498e-03,  3.3229592e-03],\n",
              "      dtype=float32)"
            ]
          },
          "metadata": {},
          "execution_count": 156
        }
      ]
    },
    {
      "cell_type": "code",
      "source": [
        "# Most similar words\n",
        "similar = model.wv.most_similar('Albus')\n",
        "similar"
      ],
      "metadata": {
        "colab": {
          "base_uri": "https://localhost:8080/"
        },
        "id": "7Nx1obPdj-2Y",
        "outputId": "1b8736c2-653d-4535-d694-c386ac89d3c0"
      },
      "execution_count": 158,
      "outputs": [
        {
          "output_type": "execute_result",
          "data": {
            "text/plain": [
              "[('leadership', 0.19194930791854858),\n",
              " ('take', 0.17726856470108032),\n",
              " ('have', 0.15853197872638702),\n",
              " ('wear', 0.15545016527175903),\n",
              " ('sought', 0.13782142102718353),\n",
              " ('the', 0.12873026728630066),\n",
              " ('thrust', 0.12019222974777222),\n",
              " ('Harry', 0.11921392381191254),\n",
              " ('to', 0.1022951751947403),\n",
              " ('.', 0.0954347550868988)]"
            ]
          },
          "metadata": {},
          "execution_count": 158
        }
      ]
    }
  ]
}